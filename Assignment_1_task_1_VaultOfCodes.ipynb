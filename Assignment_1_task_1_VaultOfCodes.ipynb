{
  "nbformat": 4,
  "nbformat_minor": 0,
  "metadata": {
    "colab": {
      "provenance": [],
      "authorship_tag": "ABX9TyMU6VFTBSwgIPg61faoSlxY",
      "include_colab_link": true
    },
    "kernelspec": {
      "name": "python3",
      "display_name": "Python 3"
    },
    "language_info": {
      "name": "python"
    }
  },
  "cells": [
    {
      "cell_type": "markdown",
      "metadata": {
        "id": "view-in-github",
        "colab_type": "text"
      },
      "source": [
        "<a href=\"https://colab.research.google.com/github/ritammondal2004/Vault-of-Codes-Assignment_1/blob/Assignment-1/Assignment_1_task_1_VaultOfCodes.ipynb\" target=\"_parent\"><img src=\"https://colab.research.google.com/assets/colab-badge.svg\" alt=\"Open In Colab\"/></a>"
      ]
    },
    {
      "cell_type": "markdown",
      "source": [
        "# **Task 1:**\n",
        "\n",
        "Code Review and Error Correction\n",
        "\n",
        "## Objective:\n",
        " Identify, correct, and explain errors in Python code snippets to reinforce understanding of syntax and logic."
      ],
      "metadata": {
        "id": "jAAyh9DFPoL3"
      }
    },
    {
      "cell_type": "markdown",
      "source": [
        "### 1. **Code Snippet 1**\n",
        "\n",
        "\n",
        "![image.png](data:image/png;base64,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)"
      ],
      "metadata": {
        "id": "VFzNHnIIJiot"
      }
    },
    {
      "cell_type": "markdown",
      "source": [
        "**Error**\n",
        "\n",
        "The error is `syntax error`\n",
        "\n",
        "**Corrected code:**"
      ],
      "metadata": {
        "id": "P1u3DGuQPY3D"
      }
    },
    {
      "cell_type": "code",
      "source": [
        "def add_numbers(a,b):\n",
        "  return a+b\n",
        "print(add_numbers(5,10))"
      ],
      "metadata": {
        "colab": {
          "base_uri": "https://localhost:8080/",
          "height": 0
        },
        "id": "SgBgFWDkNya6",
        "outputId": "975c4103-e903-4ec0-feb4-605d0b24468b"
      },
      "execution_count": 8,
      "outputs": [
        {
          "output_type": "stream",
          "name": "stdout",
          "text": [
            "15\n"
          ]
        }
      ]
    },
    {
      "cell_type": "markdown",
      "source": [
        "**Error Explanation:**\n",
        "\n",
        "In Python, control structures like **def** which is used to define a function, must end with a colon **(:)** to indicate the start of an indented code block.\n",
        "\n",
        "**Why it works**\n",
        "\n",
        "- we added colon → ``def add_numbers(a,b):``\n",
        "- Now Python knows to expect an indented block following the def function\n",
        "\n",
        "---"
      ],
      "metadata": {
        "id": "00BhQ9_2O46J"
      }
    },
    {
      "cell_type": "markdown",
      "source": [
        "### 2. **Code Snippet 2**\n",
        "\n",
        "![image.png](data:image/png;base64,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)"
      ],
      "metadata": {
        "id": "SdMpEMpGK1tq"
      }
    },
    {
      "cell_type": "markdown",
      "source": [
        "**Error:** Error in the above code is *syntax error* : Unclosed String\n",
        "\n",
        "**Corrected code:**"
      ],
      "metadata": {
        "id": "dEuhBK8KLKsH"
      }
    },
    {
      "cell_type": "code",
      "source": [
        "name = \"Alice\"\n",
        "\n",
        "print(\"hello, \"+ name)"
      ],
      "metadata": {
        "colab": {
          "base_uri": "https://localhost:8080/",
          "height": 0
        },
        "id": "WraVtSyxJY7Z",
        "outputId": "7f2e44e8-bce4-4598-e929-23649d4f71b7"
      },
      "execution_count": 3,
      "outputs": [
        {
          "output_type": "stream",
          "name": "stdout",
          "text": [
            "hello, Alice\n"
          ]
        }
      ]
    },
    {
      "cell_type": "markdown",
      "source": [
        "**Error Explaination**\n",
        "\n",
        "- In the line name = \"Alice, the string is not closed with a double quote.\n",
        "- Python expects strings to be enclosed in matching quotes (\"...\" or '...'), so this causes a SyntaxError.\n",
        "\n",
        "**Why it works**\n",
        "\n",
        "Added the missing closing quote \" at the end of `**name = \"Alice` → `**name = \"Alice\"**`\n",
        "\n",
        "___"
      ],
      "metadata": {
        "id": "kRVGSGXOLpgj"
      }
    },
    {
      "cell_type": "markdown",
      "source": [
        "### 3. **Code Snippet 3**\n",
        "\n",
        "![image.png](data:image/png;base64,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)"
      ],
      "metadata": {
        "id": "VBJ7U8ezLpFi"
      }
    },
    {
      "cell_type": "markdown",
      "source": [
        "**Error**: the error is *Syntax error* : Missing Colon .\n",
        "\n",
        "**Corrected code:**"
      ],
      "metadata": {
        "id": "jBIJRMW6NBoP"
      }
    },
    {
      "cell_type": "code",
      "source": [
        "for i in range(5):\n",
        "  print(\"Number:\",i)"
      ],
      "metadata": {
        "colab": {
          "base_uri": "https://localhost:8080/",
          "height": 0
        },
        "id": "W0tQ5DA5JY4F",
        "outputId": "2f54f19c-9474-426e-af4d-a5539ba3ad09"
      },
      "execution_count": 6,
      "outputs": [
        {
          "output_type": "stream",
          "name": "stdout",
          "text": [
            "Number: 0\n",
            "Number: 1\n",
            "Number: 2\n",
            "Number: 3\n",
            "Number: 4\n"
          ]
        }
      ]
    },
    {
      "cell_type": "markdown",
      "source": [
        "**Error Explanation:**\n",
        "\n",
        "In Python, control structures like **for, if, while, def** etc. must end with a colon **(:)** to indicate the start of an indented code block.\n",
        "\n",
        "**Why it works**\n",
        "\n",
        "- we added colon → ``for i in range(5):``\n",
        "- Now Python knows to expect an indented block following the loop header\n",
        "---"
      ],
      "metadata": {
        "id": "ePOZhIygNBkk"
      }
    },
    {
      "cell_type": "markdown",
      "source": [
        "### 4. **Code Snippet 4**\n",
        "\n",
        "![image.png](data:image/png;base64,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)"
      ],
      "metadata": {
        "id": "KoOBxd2oQA4R"
      }
    },
    {
      "cell_type": "markdown",
      "source": [
        "**Error:**  The error in the above code is likely to be:\n",
        "- *TypeError:*  + cannot concatenate `int` type onlt str\n",
        "- *IndexError:*  list out of range\n",
        "\n",
        "**Corrected code:**"
      ],
      "metadata": {
        "id": "xHJmr1VEQI4C"
      }
    },
    {
      "cell_type": "code",
      "source": [
        "my_list = [1, 2, 3, 4, 5]\n",
        "print(\"the fifth element is: \", my_list[4])"
      ],
      "metadata": {
        "colab": {
          "base_uri": "https://localhost:8080/",
          "height": 0
        },
        "id": "cIkfHQBmJY1n",
        "outputId": "18a7b103-07da-468a-ef1b-7bd0d0585183"
      },
      "execution_count": 16,
      "outputs": [
        {
          "output_type": "stream",
          "name": "stdout",
          "text": [
            "the fifth element is:  5\n"
          ]
        }
      ]
    },
    {
      "cell_type": "markdown",
      "source": [
        "**Error Explanatiom**\n",
        "\n",
        "- IndexError: In python, list indices starts from 0 , this means if we have list of 5 elements, the indices for those elementsa would be: 0,1,2,3,4\n",
        "\n",
        "- TypeError: If you're using + to concatenate a string with an integer (`my_list[4]`, which is correct index too) Python will throw a `TypeError` unless you convert the integer to a string using **str()**.\n",
        "\n",
        "**Why it works**\n",
        "\n",
        "- used a comma , in print() after the string which automatically handles types.\n",
        "\n",
        "- Even though the length of list is 5, we have to access the last element using index 4, as python index start from 0 and go up to n-1  \n",
        "\n",
        "---"
      ],
      "metadata": {
        "id": "Vs6ivewNRjhw"
      }
    },
    {
      "cell_type": "markdown",
      "source": [
        "### 5. **Code Snippet 5**  \n",
        "\n",
        "![image.png](data:image/png;base64,iVBORw0KGgoAAAANSUhEUgAAAPIAAABmCAIAAAB+/VumAAANxUlEQVR4Ae2d30teRxrHm+ve90/IVe56I94kvFBKrxQr7VJpthe7WZK0kNwlKEUhEboLZbGguXxfiYHQJQ2Vl8jeaBQkQUGNLiSldc22xLa4Qa1JM3dr99s+ffI858w57/Gc98eZp4QyZ87MM/M885nnPDM64yvO/jMLlM4Cr5ROI1PILOAMa4OghBYwrEs4qKaSYW0MlNAChnUJB9VUMqyNgRJawLAu4aCaSoa1MVBCCxjWJRxUU8mwNgZKaAHDuoSDaioZ1sZACS1gWJdwUE2lLFhv1jc/f/3m9vJ2evNtL29//vrNG8ev3zh+vdG66VtpWslqberc+Yu7u7tNa1E39GB9o+/t9x6sb+hXltMMrMH0woX59jf38lc/v/XxT3eWnnu6Ojs339VdmZ1rvTrDI6N9/QNPthvwLx69yvSqGVivja12iodOxPrB+sYbb/ZUa1PtAMHu7u658xdb/t1oB1OIPjQJ69snb+1928pPtlA77jER6+GR0bbCqK2mWZxVm5+fFmseHOv4eG1sFXHzjePX18ZWhRprY6sZsH669+LMZwenLu3zfxP1Z865ifqzvqv7D//ze4Eznx083XtB7d5Zek61LlcPKN85x8W+9fFPy1/9jLeXq7ItSOABCRjS4QdC7a+/2ezrH+jqrnR1V4Q7Hx4ZRX5Xd2V4ZBQtwtdWa1N4W61NIbx5480eipifbG+TzLh4Iy4UQd22moR8IApNp8J6s7554/j1zfomuiKWjAsX5ola0A+yUYtwp0SaIBvwEawT9WenLu0TYXg8dWkflH/344u+q/uE70T9GfEqXolHXhKq+b11tTYVyVa1NtXVXSEcRfANXiEfEwNkA+vTH5yp1qZ+kfz2e3/84C/r6//q6x/ArBCeOA5f0RzhoicJvSp9Ihnrg6cH//zDDGeRYw2OiXjnnPbNOifRrAIvjSOn/FDa5eoB5gBKAne0cmfpOVEON//dj7/6dUwemg/OOdEu7ycoJF/LXwFr8uJwk8JhU3miEwIxT0gC6qIVEfDEifXnm7cmy7+U0OByrDWy/C0E6TIvNRD1gCiC3LOAVXtZksEhRiaRqiE+LEDzQRQmgZSIo8c5J7y4pyQvzOdJtTYFZ4+6wyOjWggvT71yzsXl8zKhpZO9tR/rhQvzFF1QQux7ZMBaByHkcRFb80c+ZhSfUGxNITLmhsg/dWmfQh2/t9acUbt+rFGRYuuu7go8NMdRY40IhNdCWn8uuBzqUuCJo2KdBtk0ZcQwCAQFxA15a5Ic6a3pLRLk2kW+cy4b1qjFIwGaAxxHjbWnOdE3Lke8CvYxGeu9b3dvn7xF+xsItckf65BDmzID1iIIFjI9WHu4PBQiQg4h1jknoh1ewEMPkYrynEi9nqPCXKDGmr/l3dBp3hx/q2cUf1vudDLWzjm+17FwYf6Lk7e+OHkLPzwH5bQTEmmsDFjrEJlL9mB9WOxy9UB4d6oL6PkakV4hAY/ed3WflpW8ABHJM3m4jHzOGd/6cM5hLy9NEOKcw5SIW3pSH/TMwSvbCSETRSfALkLntbHV7eVtwhoVRITNt00i90aim3k5V28kE45+rBF88xiaR88ivBE7KuSwqTotW51zYJR2PKi/AneONdGJyPjXvbz//8Sb+2PtrSFcRNi0h0hNY6rwIIdembcmU7RLQntc7I3wnbuW9JW251rSum40bqbpkkHlpApCmmwRsQ2C1hE/tBxrEVQ02TKiOfj7SFctSob22I5YH46B8NYAPS5ibvKYpQx5m9Crdvt0NEHllE20KdaHvRexNY+PU+pWXDH7fevibJuL5PbFOhf1TEiYFjCswxz3kmttWJd8gMNUz7AOc9xLrrVhXfIBDlM9wzrMcS+51oZ1yQc4TPUM6zDHveRaG9YlH+Aw1TOswxz3kmttWJd8gMNUz7AOc9xLrrVhXfIBDlO9YrE+2H2ydO3E3SvHHt8by92++G1jfiZqa2fr9M33T998f2tna2JxvLfWMzQzePR2h2YGe2s9+De9Mc0F7uzvfHT7Q7x6d+qd+1v3+dvMaYiFwOmN6d5az0e3P9zZ38kssG0rDo+M6rP0R+9tm2L9qH528dPX9r733XKrf9uYYw0aJhbHj24jSLi/df/dqXcE1iR8emO6IKzRbi7zk3rbPgkcy+C+KZe+FYt15i4mYk2H/3gTcHJwbALroZlB4fBQIA5TLhbpZmLtnBuaGcRnp9xY01lPfUJUD0H6nI7EWpyBJW051oLCzsUan6AcPztkrvZJ6A/vEfuWgPWj+tmlayf++++FxU9fu3vl2N0rxx7Vz6JJxM0rk5UfHn658MmrkW+RufDJqz88/JJ3dGWyIioi+N77foMaQl38XwQk4qQ3lxyXTsQ6MUoW80Q0FBeEoBaCb3hfUbGgx0ZNBE8xOzeP2wDp6inqHlYydMsUhQ2zc/N9/QOzc/OHp+L7+ge+/mbz3PmL/GJY8sdxt1LRkX6SSY1mTiRjDbCA3eN7Y7T+o+UgUcvfUoce3xujApS5Mlm5e+UYwfqoflaU8QQh/B4CEpiY8GMNj0jx68TiuA6UM2CNZSvFOUMzg1psYs+zFciGNeGoD//+9W9/p+uJ+WlOAH3u/EXc9fr7BbC//ZkEHi5i8ug1om4um9ZUKxXWtI9BHto5hzSh6ZyDryV3jjbisOYcw99TK845D9bZrhDwYz2xOM5dKTw3UQ5FGsVaBw9i8tAYFJHIhjU/xO6RwCkkxPm1JISyDhcxDWiGkO6e5qhM+kQy1hxc59zKZGXp2omD3SfAGmlPe3FY84oNYR1nF08fsAKjTTqemN6YjoRYT4NGsY5ckmqx/m5nftsoJZo/vwS6pJiGg3tiwprekiJxXkmXpCoZEgFhHbcTAifKWUdalM+AtQ45aH8jw1AlVgFYFP7yRGLYmog1cOQy4doJx0isKVLnFSP/oBTJSVQzTQHDOtpba9vlhbWYLbqhXHL8vlY34ccaTPOYOLO31k0jp5VY8+i50CAkMnSB/nFfsTh7IV9//XmQoN9qaY1iHRdbN2erLl+sKaggs6TEOv1gNdph6klkojFvvTJZoVC7UKwRba9MVnSni9gJAbJijSiabhTrX264fHlHpdAIRPS2UUr83prWhfTHD7q6K2mCENx8GXkjJu8wX4Py/MzpZKz5/jFf5/mx5pvZJIGq07oT/dZLRucctgubtm+tI2xszOn83loPbZuAdRGX8zADe3yRwXrmMUtTMV+scdkxxcezc/MpvTW6KiJsvt+CAumdehrdD+dSMtbknlNKbEIxvjppQnPWRNEWoEmSV0MdiTU5j3x/kSAvm5qchiyACCffoexUrFMGbQ3Z1wo33wIIPxL3HxvtWAdjjXVG7hZp1IJW/igW6Mjftz6KwlbXLJDZAgneOrNcq2gWaKEFDOsWGt+aLsoChnVRljW5LbSAYd1C41vTRVnAsC7Ksia3hRYwrFtofGu6KAsY1kVZ1uS20AKGdQuNb00XZQHDuijLmtwWWsCwbqHxremiLGBYF2VZk9tCCxjWLTS+NV2UBToYa/0bfDjJgqMred2Yqo8kiqFAQxOL4yjJT5vrHoq69liQBdoU6zRnlvTFbRxrcbVkZvOlxxr3jdB5MLRYxO/IZ9YlnIqdirU+C+2cA1g4SiiwxiM/dJjyBHgi1nSCPRJrHORJPKMaDnDN0bQjsdbHpGEsjrU4KC6ufhTQe2ydHmvcHcXP50Js7seqPb21V7BAMtY4lkOnjru6K/A9GK3DSIAXEGdV+JFj8QpoQmzfb9cQ8kzeIhVAp9OEKGKABdaYAPwGBeALd87jY8KazpCLMEM0FPlooUikWYrLTMCaHzUDx0QYHolyuu+Vzlry2JfL0Re/8pJQ1QMuTaeGjOLHWjhvEMwvVPjzP/4EN8w/COk7YEfl09sql5IJWAu8uNcRlDvneGwAjglxhJg0JcQBel4RWol2uapaMn8blxZY84tptOfm7MJb89CCgum4tiLzhcqRZSwzLwskYC38KL8oDVjrq0zQM80l1dUQawesq5PCJIdy0iTAIl8y0rXTiMLFCpKuBqYghFqJLE9v4xIejeKqWH5mCyRgzYMHwbF4FD0YHhnlwTHSCMohU7/lNxd6IMiMNY+YgSZia7G4hCLkzjXWOkfoHvno0SiyvGUexQIJWCPqIAS5b/Zj7RlF7a21Ap7quWDNL8iLwxpLQw1xZHmtgsjxaCRK2uPRLeDDWscGvD0/1h74/GLRhKd6LrE1sAa4cbE1fLnGmhw5t0Zi2mLrRBPlWMCHNW5O4h6aN+zHGm9pjcgr0p6J2PLjZcAuD0vobZpZQYUpIZaMPAhxzolVIAdXYI2KIhCnVuIS+EBFqhNXxfKPYoEErDEeFIQggf0NP9bok4iw+biKCFv/HI7HP2J6ZPige5aM6CovIHam+V/R7a310Fozvd09H5/0Qqxkegv4sAbTwlsPj4xqBNO3l0vJznJ+2T4vuRgqWCE+rOFQRagQ+csYzTcffn7J98Wb34eULbaJxVL2thzFfFhrbw3Qhf9ulSHa4buRqDv/AVZiYSuQlwV8WNMPDnlsLZx3Xv3IIAcf9/bpj1ah/Xuo+1yOnASsy6GkaRGaBQzr0EY8CH0N6yCGOTQlDevQRjwIfQ3rIIY5NCUN69BGPAh9Desghjk0JQ3r0EY8CH0N6yCGOTQlDevQRjwIfQ3rIIY5NCX/B6i2bfE0o/6dAAAAAElFTkSuQmCC)"
      ],
      "metadata": {
        "id": "CpNX8dtcTUHo"
      }
    },
    {
      "cell_type": "markdown",
      "source": [
        "**Error:**\n",
        "   the error in the above code is *IndentationError* : It expects an indented block after the function is defined.\n",
        "\n",
        "**Corrected code:**"
      ],
      "metadata": {
        "id": "qN18qgXdUp8m"
      }
    },
    {
      "cell_type": "code",
      "source": [
        "def greet(name):\n",
        "  print('hello ' + name)\n",
        "greet(\"Bob\")"
      ],
      "metadata": {
        "colab": {
          "base_uri": "https://localhost:8080/",
          "height": 0
        },
        "id": "lRuMC0c4Uorm",
        "outputId": "48fb5aa2-64c4-4eb1-80e9-b694eaebf1f4"
      },
      "execution_count": 18,
      "outputs": [
        {
          "output_type": "stream",
          "name": "stdout",
          "text": [
            "hello Bob\n"
          ]
        }
      ]
    },
    {
      "cell_type": "markdown",
      "source": [
        "**Error Explanation:**\n",
        "\n",
        "- In Python, control structures like **for, if, while, def** etc. must keep a space or indent inside that block of condition or function.\n",
        "- In the given code snippet there **was no indentation** before print(), so python throws an **`IndentationError`**.\n",
        "\n",
        "**Why it works**\n",
        "\n",
        "We put a space or indent before the Print() statement, so now python expects an indentation.\n",
        "\n",
        "All code lines with indentation below that def function will be treated as code block of `greet()` function\n",
        "\n",
        "---"
      ],
      "metadata": {
        "id": "oRw7xy9_RpsG"
      }
    },
    {
      "cell_type": "markdown",
      "source": [
        "### 6. **Code Snippet 6**\n",
        "\n",
        "![image.png](data:image/png;base64,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)"
      ],
      "metadata": {
        "id": "_GAbaN5ITftL"
      }
    },
    {
      "cell_type": "markdown",
      "source": [
        "**Error:**  The error in the above code is *TypeError* . Cannot compare betweent `str` type and `int` type\n",
        "\n",
        "**Corrected code:**"
      ],
      "metadata": {
        "id": "MShOLYw9XPFp"
      }
    },
    {
      "cell_type": "code",
      "source": [
        "age = int(input('Enter your age: '))\n",
        "if age >= 18:\n",
        "  print(\"You are eligible to vote.\")\n",
        "else:\n",
        "  print(\"You are not eligible to vote\")"
      ],
      "metadata": {
        "colab": {
          "base_uri": "https://localhost:8080/",
          "height": 0
        },
        "id": "kZgeBLC4W-Km",
        "outputId": "0f806530-47e1-487d-aa4c-cfd6cc2ce768"
      },
      "execution_count": 22,
      "outputs": [
        {
          "output_type": "stream",
          "name": "stdout",
          "text": [
            "Enter your age: 21\n",
            "You are eligible to vote.\n"
          ]
        }
      ]
    },
    {
      "cell_type": "markdown",
      "source": [
        "**Error Explanation:**\n",
        "- In python `input()`  function takes every input as **str** type by default\n",
        "\n",
        "- So the given code snippet error is 'TypeError' because it compares **str type** to **int type** data\n",
        "\n",
        "**Why it works**\n",
        "\n",
        "we corrected the code by converting the input **string** type value into **integer** type with **`int(input('Enter your age: '))`**  \n",
        "\n",
        "---"
      ],
      "metadata": {
        "id": "tpdi2SmTRqJk"
      }
    },
    {
      "cell_type": "markdown",
      "source": [
        "7. **Code Snippet 7**\n",
        "\n",
        "![image.png](data:image/png;base64,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)"
      ],
      "metadata": {
        "id": "tWKG3q2eZbNd"
      }
    },
    {
      "cell_type": "markdown",
      "source": [
        "**Error:**  \n",
        "error in the code is *SyntaxError*  or *IndetationError* depending on the interpreter: 'return' statement is outside the function\n",
        "\n",
        "**Corrected code:**"
      ],
      "metadata": {
        "id": "q7i51IghaINJ"
      }
    },
    {
      "cell_type": "code",
      "source": [
        "def multiply(a, b):\n",
        "  result = a * b\n",
        "  return result\n",
        "\n",
        "print(multiply(4, 5))"
      ],
      "metadata": {
        "colab": {
          "base_uri": "https://localhost:8080/",
          "height": 0
        },
        "id": "hRY1ptm4Zbvb",
        "outputId": "59a9315b-bee8-4030-b95b-529475af9ba9"
      },
      "execution_count": 30,
      "outputs": [
        {
          "output_type": "stream",
          "name": "stdout",
          "text": [
            "20\n"
          ]
        }
      ]
    },
    {
      "cell_type": "markdown",
      "source": [
        "**Error Explanation**\n",
        "\n",
        "The `return result` line is not properly indented, so Python treats it as outside the function definition, resulting in an IndexError.\n",
        "\n",
        "**Why it works**  \n",
        "- We indentated the return , now `return result` is part of the function body and will execute when the function is called.\n",
        "\n",
        "- `print(multiply(4, 5))` calls the function with 4 and 5, receives 20 from the return, and prints it.  \n",
        "\n",
        "---\n"
      ],
      "metadata": {
        "id": "eOWSZ0R2Rqju"
      }
    },
    {
      "cell_type": "markdown",
      "source": [
        "### 8. **Code Snippet 8**\n",
        "\n",
        "![image.png](data:image/png;base64,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)"
      ],
      "metadata": {
        "id": "vksnvvrjnSsu"
      }
    },
    {
      "cell_type": "markdown",
      "source": [
        "**Error:** the error is *SyntaxError* : Missing Colon\n",
        "\n",
        "**Corrected code:**"
      ],
      "metadata": {
        "id": "M3hdex1_ns4p"
      }
    },
    {
      "cell_type": "code",
      "source": [
        "count = 10\n",
        "while count > 0:\n",
        "  print(count)\n",
        "  count -= 1\n",
        "\n",
        "print('Countdown complete!')"
      ],
      "metadata": {
        "colab": {
          "base_uri": "https://localhost:8080/",
          "height": 0
        },
        "id": "ZAaH5YzSJYzX",
        "outputId": "08ee266a-8ffa-429e-c6e1-b38f8cb948a8"
      },
      "execution_count": 34,
      "outputs": [
        {
          "output_type": "stream",
          "name": "stdout",
          "text": [
            "10\n",
            "9\n",
            "8\n",
            "7\n",
            "6\n",
            "5\n",
            "4\n",
            "3\n",
            "2\n",
            "1\n",
            "Countdown complete!\n"
          ]
        }
      ]
    },
    {
      "cell_type": "markdown",
      "source": [
        "**Error Explanation:**\n",
        "\n",
        "The error (**SyntaxError**) is again same like code snippet 3. In Python, control structures like **for, if, while, def** etc. must end with a colon **(:)** to indicate the start of an indented code block. Code block in python expecting a colon.\n",
        "\n",
        "**Why it works**\n",
        "\n",
        "- we added colon → ``while count > 0:``\n",
        "- Now Python knows to expect an indented block following the loop header\n",
        "\n",
        "___\n",
        "---"
      ],
      "metadata": {
        "id": "H9NBvaWgnTKX"
      }
    }
  ]
}